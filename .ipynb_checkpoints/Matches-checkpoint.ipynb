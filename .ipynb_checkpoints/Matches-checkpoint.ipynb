{
 "cells": [
  {
   "cell_type": "markdown",
   "metadata": {},
   "source": [
    "### Matches played in Egyptian League between 2010 - 2017 \n",
    "#### How many matches played in the league between 2010-2017 ?\n",
    "#### How many matches played in each season ?\n",
    "#### How many matches played by top team ? "
   ]
  },
  {
   "cell_type": "code",
   "execution_count": 1,
   "metadata": {},
   "outputs": [],
   "source": [
    "import pandas as pd \n",
    "import numpy as np \n",
    "import matplotlib.pyplot as plt \n",
    "import seaborn as sns \n",
    "%matplotlib inline "
   ]
  },
  {
   "cell_type": "code",
   "execution_count": null,
   "metadata": {},
   "outputs": [],
   "source": [
    "# Question 0 : gathering the data \n",
    "from collections import defaultdict\n",
    "from warnings import filterwarnings\n",
    "filterwarnings('ignore')\n",
    "import time \n",
    "def final_result(result):\n",
    "    home,away = result.split(':')\n",
    "    if home > away :\n",
    "        return \"Home\"\n",
    "    elif away>home :\n",
    "        return 'Away'\n",
    "    else:\n",
    "        return 'Draw'\n",
    "start=time.time()\n",
    "match_fixtures=defaultdict(list)\n",
    "id=0\n",
    "seasons=list(range(2010,2018))\n",
    "matchdays= list(range(38))\n",
    "for season in seasons:\n",
    "    print('Downloading Season:',season)\n",
    "    for matchday in matchdays:\n",
    "        print('Downoading Matchday:',matchday+1)\n",
    "        while True:\n",
    "            try:\n",
    "                res = requests.get('https://www.transfermarkt.com/egyptian-premier-league/spieltagtabelle/wettbewerb/EGY1?saison_id={}&spieltag={}'.format(season,matchday+1),headers=headers,verify=False)\n",
    "                res.raise_for_status()\n",
    "                break\n",
    "            except requests.exceptions.ConnectionError:\n",
    "                res.status_code = \"Connection refused\"\n",
    "                time.sleep(0.2)\n",
    "                continue \n",
    "            except requests.exceptions.SSLError:\n",
    "                time.sleep(0.2)\n",
    "                continue \n",
    "        soup = bs4.BeautifulSoup(res.text,'lxml')\n",
    "        for link in soup.select('.ergebnis-link'):\n",
    "            id+=1\n",
    "            sch='http://www.transfermarkt.com'\n",
    "            res = requests.get(sch+link.get('href'),headers=headers)\n",
    "            res.raise_for_status()\n",
    "            soup=bs4.BeautifulSoup(res.text,'lxml')\n",
    "            home_team,away_team=[x.text for x in soup.select('.hide-for-small .sb-vereinslink')]\n",
    "            _,date,time_gmt=[x.text.split('|') for x in soup.select('.sb-datum')][0]\n",
    "    #         matchday=matchday.split('.')[0]\n",
    "            date=date.strip()\n",
    "            time_gmt=time_gmt.strip()\n",
    "            full_time_result,half_time_result=[x.text for x in soup.select('.sb-endstand')][0].split('(')\n",
    "            full_time_result=full_time_result.strip()\n",
    "            half_time_result=half_time_result.replace(')','')\n",
    "            refree=[x.text for x in soup.select('.sb-zusatzinfos a')][-1]\n",
    "            winner = final_result(full_time_result)\n",
    "            home_yellow=len(soup.select('.sb-aktion-heim .sb-gelb'))\n",
    "            away_yellow=len(soup.select('.sb-aktion-gast .sb-gelb'))\n",
    "            home_yellow2=len(soup.select('.sb-aktion-heim .sb-gelbrot'))\n",
    "            away_yellow2=len(soup.select('.sb-aktion-gast .sb-gelbrot'))\n",
    "            home_red=len(soup.select('.sb-aktion-heim .sb-rot'))\n",
    "            away_red=len(soup.select('.sb-aktion-gast .sb-rot'))\n",
    "\n",
    "            match_fixtures['ID'].append(id)\n",
    "            match_fixtures['Season'].append(season)\n",
    "            match_fixtures['Fixture'].append(home_team+' x '+away_team)\n",
    "            match_fixtures['MatchDay'].append(matchday+1)\n",
    "            match_fixtures['Date'].append(date)\n",
    "            match_fixtures['Time'].append(time_gmt)\n",
    "            match_fixtures['Home Team'].append(home_team)\n",
    "            match_fixtures['Away Team'].append(away_team)\n",
    "            match_fixtures['Refree'].append(refree)\n",
    "            match_fixtures['Yellow Home'].append(home_yellow)\n",
    "            match_fixtures['Yellow Away'].append(away_yellow)\n",
    "            match_fixtures['2nd Yellow Home'].append(home_yellow2)\n",
    "            match_fixtures['2nd Yellow Away'].append(away_yellow2)\n",
    "            match_fixtures['Red Home'].append(home_red)\n",
    "            match_fixtures['Red Away'].append(away_red)\n",
    "            match_fixtures['Half Time Result'].append(half_time_result)\n",
    "            match_fixtures['Full Time Result'].append(full_time_result)\n",
    "            match_fixtures['Home Goals'].append(full_time_result.split(':')[0])\n",
    "            match_fixtures['Away Goals'].append(full_time_result.split(':')[-1])\n",
    "            match_fixtures['Winner'].append(winner)\n",
    "            time.sleep(2)\n",
    "print(time.time()-start)\n",
    "#check the Refree and takecare from storing the place in the Refree column\n",
    "#Refree column was modified manually"
   ]
  },
  {
   "cell_type": "code",
   "execution_count": null,
   "metadata": {},
   "outputs": [],
   "source": [
    "cols=['Match ID','Matchday','Match','Home','Away','Date','Time','Final Result','Refree','Event','Minute'\\\n",
    "     ,'Player','Team','Opponent']\n",
    "table = pd.DataFrame(all_matches,columns=cols)\n",
    "# table.to_csv('EgyptianLeagueMatches.csv')\n",
    "table.head()"
   ]
  },
  {
   "cell_type": "code",
   "execution_count": 5,
   "metadata": {},
   "outputs": [],
   "source": [
    "data=pd.read_csv('EgyptianLeague.csv')"
   ]
  },
  {
   "cell_type": "code",
   "execution_count": 3,
   "metadata": {},
   "outputs": [
    {
     "name": "stdout",
     "output_type": "stream",
     "text": [
      "Number of matches is: 2031\n"
     ]
    }
   ],
   "source": [
    "#Question 1 : How many matches played in the league between 2010-2017 ?\n",
    "print ('Number of matches is:',table.shape[0])"
   ]
  },
  {
   "cell_type": "code",
   "execution_count": 6,
   "metadata": {},
   "outputs": [
    {
     "data": {
      "image/png": "[encoded data removed]",
      "text/plain": [
       "<Figure size 576x576 with 1 Axes>"
      ]
     },
     "metadata": {},
     "output_type": "display_data"
    }
   ],
   "source": [
    "#Question 2 : How many matches played in each season ?\n",
    "plt.figure(figsize=(8,8))\n",
    "ax=sns.countplot(y=data['Season'])\n",
    "for i,j in enumerate(data.groupby('Season')['Fixture'].count()):\n",
    "    ax.text(0.5,i,j,weight = \"bold\")\n",
    "plt.title('Matches by Season')\n",
    "plt.show()"
   ]
  },
  {
   "cell_type": "markdown",
   "metadata": {},
   "source": [
    "#### !!!!!!!! why the Seasons have different number of matches !? Is it our data scrapper fault !?\n",
    "By investigating the matter, I found that the Egyptian league rules was changed many times, the number of teams changed, So the number of matches also changed, here a link I found illustrating this matter in details and showing each season with the number of teams participating and what happened this season \n",
    "http://www.angelfire.com/ak/EgyptianSports/SocDawrysystem.html "
   ]
  },
  {
   "cell_type": "code",
   "execution_count": 7,
   "metadata": {},
   "outputs": [
    {
     "data": {
      "text/html": [
       "<div>\n",
       "<style scoped>\n",
       "    .dataframe tbody tr th:only-of-type {\n",
       "        vertical-align: middle;\n",
       "    }\n",
       "\n",
       "    .dataframe tbody tr th {\n",
       "        vertical-align: top;\n",
       "    }\n",
       "\n",
       "    .dataframe thead th {\n",
       "        text-align: right;\n",
       "    }\n",
       "</style>\n",
       "<table border=\"1\" class=\"dataframe\">\n",
       "  <thead>\n",
       "    <tr style=\"text-align: right;\">\n",
       "      <th></th>\n",
       "      <th>Team</th>\n",
       "      <th>matches</th>\n",
       "    </tr>\n",
       "  </thead>\n",
       "  <tbody>\n",
       "    <tr>\n",
       "      <th>0</th>\n",
       "      <td>Enppi Club</td>\n",
       "      <td>221</td>\n",
       "    </tr>\n",
       "    <tr>\n",
       "      <th>1</th>\n",
       "      <td>Smouha SC</td>\n",
       "      <td>221</td>\n",
       "    </tr>\n",
       "    <tr>\n",
       "      <th>2</th>\n",
       "      <td>Ittehad Alexandria</td>\n",
       "      <td>221</td>\n",
       "    </tr>\n",
       "    <tr>\n",
       "      <th>3</th>\n",
       "      <td>El Ahly Cairo</td>\n",
       "      <td>220</td>\n",
       "    </tr>\n",
       "    <tr>\n",
       "      <th>4</th>\n",
       "      <td>Tala'ea El Gaish</td>\n",
       "      <td>220</td>\n",
       "    </tr>\n",
       "    <tr>\n",
       "      <th>5</th>\n",
       "      <td>Masr El Makasa</td>\n",
       "      <td>220</td>\n",
       "    </tr>\n",
       "    <tr>\n",
       "      <th>6</th>\n",
       "      <td>Arab Contractors SC</td>\n",
       "      <td>219</td>\n",
       "    </tr>\n",
       "    <tr>\n",
       "      <th>7</th>\n",
       "      <td>Wadi Degla FC</td>\n",
       "      <td>219</td>\n",
       "    </tr>\n",
       "    <tr>\n",
       "      <th>8</th>\n",
       "      <td>Ismaily SC</td>\n",
       "      <td>219</td>\n",
       "    </tr>\n",
       "    <tr>\n",
       "      <th>9</th>\n",
       "      <td>Zamalek SC</td>\n",
       "      <td>218</td>\n",
       "    </tr>\n",
       "  </tbody>\n",
       "</table>\n",
       "</div>"
      ],
      "text/plain": [
       "                  Team  matches\n",
       "0           Enppi Club      221\n",
       "1            Smouha SC      221\n",
       "2   Ittehad Alexandria      221\n",
       "3        El Ahly Cairo      220\n",
       "4     Tala'ea El Gaish      220\n",
       "5       Masr El Makasa      220\n",
       "6  Arab Contractors SC      219\n",
       "7        Wadi Degla FC      219\n",
       "8           Ismaily SC      219\n",
       "9           Zamalek SC      218"
      ]
     },
     "execution_count": 7,
     "metadata": {},
     "output_type": "execute_result"
    }
   ],
   "source": [
    "# Question 3 : How many matches played by top team ?\n",
    "x=data.groupby('Home Team')['Fixture'].count().reset_index().rename(columns={'Home Team':'Team','Fixture':'matches'})\n",
    "y=data.groupby('Away Team')['Fixture'].count().reset_index().rename(columns={'Away Team':'Team','Fixture':'matches'})\n",
    "xy=pd.concat([x,y],axis=0)\n",
    "xy.groupby('Team').sum().sort_values(by='matches',ascending=False)[:10].reset_index()"
   ]
  },
  {
   "cell_type": "markdown",
   "metadata": {},
   "source": [
    "#### A new question arised why there is a difference in matches played among the teams by 1 or 2 matches !! \n",
    "The Crowned team and regulated teams every seasons aren't determined by points only, sometimes by additional matches like what happened in Season 2013 where the top two teams from the two groups faced each other in additional matches , for more details here is a link \n",
    "http://www.kooora.com/default.aspx?c=9645&stage=2"
   ]
  },
  {
   "cell_type": "code",
   "execution_count": null,
   "metadata": {},
   "outputs": [],
   "source": []
  }
 ],
 "metadata": {
  "kernelspec": {
   "display_name": "Python 3",
   "language": "python",
   "name": "python3"
  },
  "language_info": {
   "codemirror_mode": {
    "name": "ipython",
    "version": 3
   },
   "file_extension": ".py",
   "mimetype": "text/x-python",
   "name": "python",
   "nbconvert_exporter": "python",
   "pygments_lexer": "ipython3",
   "version": "3.5.2"
  }
 },
 "nbformat": 4,
 "nbformat_minor": 2
}
